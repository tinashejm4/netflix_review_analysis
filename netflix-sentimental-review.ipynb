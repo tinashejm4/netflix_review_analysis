{
 "cells": [
  {
   "cell_type": "code",
   "execution_count": 1,
   "id": "9628c3a1",
   "metadata": {
    "_cell_guid": "b1076dfc-b9ad-4769-8c92-a6c4dae69d19",
    "_uuid": "8f2839f25d086af736a60e9eeb907d3b93b6e0e5",
    "execution": {
     "iopub.execute_input": "2025-08-15T12:23:35.610613Z",
     "iopub.status.busy": "2025-08-15T12:23:35.610298Z",
     "iopub.status.idle": "2025-08-15T12:23:39.851459Z",
     "shell.execute_reply": "2025-08-15T12:23:39.850060Z"
    },
    "papermill": {
     "duration": 4.249876,
     "end_time": "2025-08-15T12:23:39.853371",
     "exception": false,
     "start_time": "2025-08-15T12:23:35.603495",
     "status": "completed"
    },
    "tags": []
   },
   "outputs": [
    {
     "data": {
      "text/html": [
       "<div>\n",
       "<style scoped>\n",
       "    .dataframe tbody tr th:only-of-type {\n",
       "        vertical-align: middle;\n",
       "    }\n",
       "\n",
       "    .dataframe tbody tr th {\n",
       "        vertical-align: top;\n",
       "    }\n",
       "\n",
       "    .dataframe thead th {\n",
       "        text-align: right;\n",
       "    }\n",
       "</style>\n",
       "<table border=\"1\" class=\"dataframe\">\n",
       "  <thead>\n",
       "    <tr style=\"text-align: right;\">\n",
       "      <th></th>\n",
       "      <th>reviewId</th>\n",
       "      <th>userName</th>\n",
       "      <th>content</th>\n",
       "      <th>score</th>\n",
       "      <th>thumbsUpCount</th>\n",
       "      <th>reviewCreatedVersion</th>\n",
       "      <th>at</th>\n",
       "      <th>appVersion</th>\n",
       "    </tr>\n",
       "  </thead>\n",
       "  <tbody>\n",
       "    <tr>\n",
       "      <th>0</th>\n",
       "      <td>862124cd-d242-4654-a033-e55306d91de5</td>\n",
       "      <td>Siyasharan Yadav</td>\n",
       "      <td>zdyenne</td>\n",
       "      <td>1</td>\n",
       "      <td>0</td>\n",
       "      <td>NaN</td>\n",
       "      <td>2025-08-13 10:35:11</td>\n",
       "      <td>NaN</td>\n",
       "    </tr>\n",
       "    <tr>\n",
       "      <th>1</th>\n",
       "      <td>ab9e18a1-99c9-4c03-9768-c8fc9e4117af</td>\n",
       "      <td>MyoThiha Thiha</td>\n",
       "      <td>good... Thanks</td>\n",
       "      <td>5</td>\n",
       "      <td>0</td>\n",
       "      <td>NaN</td>\n",
       "      <td>2025-08-12 07:34:10</td>\n",
       "      <td>NaN</td>\n",
       "    </tr>\n",
       "    <tr>\n",
       "      <th>2</th>\n",
       "      <td>411b1938-8ff1-45ee-9013-f973988c52c6</td>\n",
       "      <td>Gaurav Parikh</td>\n",
       "      <td>gauravparikh</td>\n",
       "      <td>5</td>\n",
       "      <td>0</td>\n",
       "      <td>8.4.0 build 12 40035</td>\n",
       "      <td>2025-08-10 04:48:53</td>\n",
       "      <td>8.4.0 build 12 40035</td>\n",
       "    </tr>\n",
       "    <tr>\n",
       "      <th>3</th>\n",
       "      <td>7e3ec6c4-2b53-4e3f-b1b3-eba265859a9d</td>\n",
       "      <td>Gaurav Parikh</td>\n",
       "      <td>gauravparikh</td>\n",
       "      <td>5</td>\n",
       "      <td>0</td>\n",
       "      <td>8.4.0 build 12 40035</td>\n",
       "      <td>2025-08-08 11:26:36</td>\n",
       "      <td>8.4.0 build 12 40035</td>\n",
       "    </tr>\n",
       "    <tr>\n",
       "      <th>4</th>\n",
       "      <td>18046d58-0cb1-4f41-814c-0f51c44a4dc7</td>\n",
       "      <td>Gaurav Parikh</td>\n",
       "      <td>gauravparikh</td>\n",
       "      <td>5</td>\n",
       "      <td>0</td>\n",
       "      <td>8.4.0 build 12 40035</td>\n",
       "      <td>2025-08-04 11:29:48</td>\n",
       "      <td>8.4.0 build 12 40035</td>\n",
       "    </tr>\n",
       "  </tbody>\n",
       "</table>\n",
       "</div>"
      ],
      "text/plain": [
       "                               reviewId          userName         content  \\\n",
       "0  862124cd-d242-4654-a033-e55306d91de5  Siyasharan Yadav         zdyenne   \n",
       "1  ab9e18a1-99c9-4c03-9768-c8fc9e4117af    MyoThiha Thiha  good... Thanks   \n",
       "2  411b1938-8ff1-45ee-9013-f973988c52c6     Gaurav Parikh    gauravparikh   \n",
       "3  7e3ec6c4-2b53-4e3f-b1b3-eba265859a9d     Gaurav Parikh    gauravparikh   \n",
       "4  18046d58-0cb1-4f41-814c-0f51c44a4dc7     Gaurav Parikh    gauravparikh   \n",
       "\n",
       "   score  thumbsUpCount  reviewCreatedVersion                   at  \\\n",
       "0      1              0                   NaN  2025-08-13 10:35:11   \n",
       "1      5              0                   NaN  2025-08-12 07:34:10   \n",
       "2      5              0  8.4.0 build 12 40035  2025-08-10 04:48:53   \n",
       "3      5              0  8.4.0 build 12 40035  2025-08-08 11:26:36   \n",
       "4      5              0  8.4.0 build 12 40035  2025-08-04 11:29:48   \n",
       "\n",
       "             appVersion  \n",
       "0                   NaN  \n",
       "1                   NaN  \n",
       "2  8.4.0 build 12 40035  \n",
       "3  8.4.0 build 12 40035  \n",
       "4  8.4.0 build 12 40035  "
      ]
     },
     "execution_count": 1,
     "metadata": {},
     "output_type": "execute_result"
    }
   ],
   "source": [
    "import numpy as np\n",
    "import pandas as pd\n",
    "import os\n",
    "import kagglehub\n",
    "\n",
    "path = \"\"\n",
    "for dirname, _, filenames in os.walk('/kaggle/input'):\n",
    "    for filename in filenames:\n",
    "        path = (os.path.join(dirname, filename))\n",
    "\n",
    "df = pd.read_csv(path)\n",
    "\n",
    "df.head()"
   ]
  },
  {
   "cell_type": "markdown",
   "id": "270c95f9",
   "metadata": {
    "papermill": {
     "duration": 0.004427,
     "end_time": "2025-08-15T12:23:39.863759",
     "exception": false,
     "start_time": "2025-08-15T12:23:39.859332",
     "status": "completed"
    },
    "tags": []
   },
   "source": [
    "Check Dataset Shape & Types"
   ]
  },
  {
   "cell_type": "code",
   "execution_count": 2,
   "id": "9dfe8b6b",
   "metadata": {
    "execution": {
     "iopub.execute_input": "2025-08-15T12:23:39.874259Z",
     "iopub.status.busy": "2025-08-15T12:23:39.873944Z",
     "iopub.status.idle": "2025-08-15T12:23:39.954566Z",
     "shell.execute_reply": "2025-08-15T12:23:39.953445Z"
    },
    "papermill": {
     "duration": 0.088225,
     "end_time": "2025-08-15T12:23:39.956398",
     "exception": false,
     "start_time": "2025-08-15T12:23:39.868173",
     "status": "completed"
    },
    "tags": []
   },
   "outputs": [
    {
     "name": "stdout",
     "output_type": "stream",
     "text": [
      "Rows: 138962, Columns: 8\n",
      "<class 'pandas.core.frame.DataFrame'>\n",
      "RangeIndex: 138962 entries, 0 to 138961\n",
      "Data columns (total 8 columns):\n",
      " #   Column                Non-Null Count   Dtype \n",
      "---  ------                --------------   ----- \n",
      " 0   reviewId              138962 non-null  object\n",
      " 1   userName              138960 non-null  object\n",
      " 2   content               138956 non-null  object\n",
      " 3   score                 138962 non-null  int64 \n",
      " 4   thumbsUpCount         138962 non-null  int64 \n",
      " 5   reviewCreatedVersion  115290 non-null  object\n",
      " 6   at                    138962 non-null  object\n",
      " 7   appVersion            115290 non-null  object\n",
      "dtypes: int64(2), object(6)\n",
      "memory usage: 8.5+ MB\n"
     ]
    }
   ],
   "source": [
    "print(f\"Rows: {df.shape[0]}, Columns: {df.shape[1]}\")\n",
    "\n",
    "df.info()"
   ]
  },
  {
   "cell_type": "markdown",
   "id": "aa9d79d9",
   "metadata": {
    "papermill": {
     "duration": 0.004294,
     "end_time": "2025-08-15T12:23:39.965518",
     "exception": false,
     "start_time": "2025-08-15T12:23:39.961224",
     "status": "completed"
    },
    "tags": []
   },
   "source": [
    "The dataset has 138,955 observations."
   ]
  },
  {
   "cell_type": "markdown",
   "id": "90dae8a3",
   "metadata": {
    "papermill": {
     "duration": 0.004378,
     "end_time": "2025-08-15T12:23:39.974588",
     "exception": false,
     "start_time": "2025-08-15T12:23:39.970210",
     "status": "completed"
    },
    "tags": []
   },
   "source": [
    "Checking for null values"
   ]
  },
  {
   "cell_type": "code",
   "execution_count": 3,
   "id": "29bfe961",
   "metadata": {
    "execution": {
     "iopub.execute_input": "2025-08-15T12:23:39.985224Z",
     "iopub.status.busy": "2025-08-15T12:23:39.984911Z",
     "iopub.status.idle": "2025-08-15T12:23:40.046003Z",
     "shell.execute_reply": "2025-08-15T12:23:40.044976Z"
    },
    "papermill": {
     "duration": 0.068473,
     "end_time": "2025-08-15T12:23:40.047613",
     "exception": false,
     "start_time": "2025-08-15T12:23:39.979140",
     "status": "completed"
    },
    "tags": []
   },
   "outputs": [
    {
     "data": {
      "text/plain": [
       "reviewId                    0\n",
       "userName                    2\n",
       "content                     6\n",
       "score                       0\n",
       "thumbsUpCount               0\n",
       "reviewCreatedVersion    23672\n",
       "at                          0\n",
       "appVersion              23672\n",
       "dtype: int64"
      ]
     },
     "execution_count": 3,
     "metadata": {},
     "output_type": "execute_result"
    }
   ],
   "source": [
    "df.isnull().sum()"
   ]
  },
  {
   "cell_type": "raw",
   "id": "1e37452b",
   "metadata": {
    "papermill": {
     "duration": 0.004374,
     "end_time": "2025-08-15T12:23:40.056825",
     "exception": false,
     "start_time": "2025-08-15T12:23:40.052451",
     "status": "completed"
    },
    "tags": []
   },
   "source": [
    "Dropping nulls from content since it is an essential field"
   ]
  },
  {
   "cell_type": "code",
   "execution_count": 4,
   "id": "6c4b4a27",
   "metadata": {
    "execution": {
     "iopub.execute_input": "2025-08-15T12:23:40.068416Z",
     "iopub.status.busy": "2025-08-15T12:23:40.068092Z",
     "iopub.status.idle": "2025-08-15T12:23:40.112128Z",
     "shell.execute_reply": "2025-08-15T12:23:40.111160Z"
    },
    "papermill": {
     "duration": 0.052392,
     "end_time": "2025-08-15T12:23:40.113807",
     "exception": false,
     "start_time": "2025-08-15T12:23:40.061415",
     "status": "completed"
    },
    "tags": []
   },
   "outputs": [],
   "source": [
    "df.dropna(subset=['content', 'score'], inplace=True)"
   ]
  },
  {
   "cell_type": "markdown",
   "id": "1d7adab7",
   "metadata": {
    "papermill": {
     "duration": 0.004315,
     "end_time": "2025-08-15T12:23:40.122918",
     "exception": false,
     "start_time": "2025-08-15T12:23:40.118603",
     "status": "completed"
    },
    "tags": []
   },
   "source": [
    "Visualize Rating Distribution"
   ]
  },
  {
   "cell_type": "code",
   "execution_count": 5,
   "id": "07f191bf",
   "metadata": {
    "execution": {
     "iopub.execute_input": "2025-08-15T12:23:40.133232Z",
     "iopub.status.busy": "2025-08-15T12:23:40.132922Z",
     "iopub.status.idle": "2025-08-15T12:23:42.411355Z",
     "shell.execute_reply": "2025-08-15T12:23:42.410236Z"
    },
    "papermill": {
     "duration": 2.285729,
     "end_time": "2025-08-15T12:23:42.413219",
     "exception": false,
     "start_time": "2025-08-15T12:23:40.127490",
     "status": "completed"
    },
    "tags": []
   },
   "outputs": [
    {
     "data": {
      "image/png": "[encoded data removed]",
      "text/plain": [
       "<Figure size 600x400 with 1 Axes>"
      ]
     },
     "metadata": {},
     "output_type": "display_data"
    }
   ],
   "source": [
    "import seaborn as sns\n",
    "import matplotlib.pyplot as plt\n",
    "\n",
    "plt.figure(figsize=(6, 4))\n",
    "sns.countplot(x='score', data=df, palette='muted')\n",
    "plt.title('Distribution of Star Ratings')\n",
    "plt.xlabel('Star Rating')\n",
    "plt.ylabel('Number of Reviews')\n",
    "plt.tight_layout()\n",
    "plt.show()"
   ]
  },
  {
   "cell_type": "markdown",
   "id": "6a519220",
   "metadata": {
    "papermill": {
     "duration": 0.004808,
     "end_time": "2025-08-15T12:23:42.423305",
     "exception": false,
     "start_time": "2025-08-15T12:23:42.418497",
     "status": "completed"
    },
    "tags": []
   },
   "source": [
    "We need to classify the ratings by mapping scores to sentiments. We can classify sentiment based on the following score:\n",
    "\n",
    "1–2 stars = Negative\n",
    "\n",
    "3 stars = Neutral\n",
    "\n",
    "4–5 stars = Positive"
   ]
  },
  {
   "cell_type": "code",
   "execution_count": 6,
   "id": "ee1b0658",
   "metadata": {
    "execution": {
     "iopub.execute_input": "2025-08-15T12:23:42.435299Z",
     "iopub.status.busy": "2025-08-15T12:23:42.434778Z",
     "iopub.status.idle": "2025-08-15T12:23:42.474859Z",
     "shell.execute_reply": "2025-08-15T12:23:42.473576Z"
    },
    "papermill": {
     "duration": 0.047802,
     "end_time": "2025-08-15T12:23:42.476569",
     "exception": false,
     "start_time": "2025-08-15T12:23:42.428767",
     "status": "completed"
    },
    "tags": []
   },
   "outputs": [
    {
     "data": {
      "text/html": [
       "<div>\n",
       "<style scoped>\n",
       "    .dataframe tbody tr th:only-of-type {\n",
       "        vertical-align: middle;\n",
       "    }\n",
       "\n",
       "    .dataframe tbody tr th {\n",
       "        vertical-align: top;\n",
       "    }\n",
       "\n",
       "    .dataframe thead th {\n",
       "        text-align: right;\n",
       "    }\n",
       "</style>\n",
       "<table border=\"1\" class=\"dataframe\">\n",
       "  <thead>\n",
       "    <tr style=\"text-align: right;\">\n",
       "      <th></th>\n",
       "      <th>reviewId</th>\n",
       "      <th>userName</th>\n",
       "      <th>content</th>\n",
       "      <th>score</th>\n",
       "      <th>thumbsUpCount</th>\n",
       "      <th>reviewCreatedVersion</th>\n",
       "      <th>at</th>\n",
       "      <th>appVersion</th>\n",
       "      <th>sentiment</th>\n",
       "    </tr>\n",
       "  </thead>\n",
       "  <tbody>\n",
       "    <tr>\n",
       "      <th>0</th>\n",
       "      <td>862124cd-d242-4654-a033-e55306d91de5</td>\n",
       "      <td>Siyasharan Yadav</td>\n",
       "      <td>zdyenne</td>\n",
       "      <td>1</td>\n",
       "      <td>0</td>\n",
       "      <td>NaN</td>\n",
       "      <td>2025-08-13 10:35:11</td>\n",
       "      <td>NaN</td>\n",
       "      <td>negative</td>\n",
       "    </tr>\n",
       "    <tr>\n",
       "      <th>1</th>\n",
       "      <td>ab9e18a1-99c9-4c03-9768-c8fc9e4117af</td>\n",
       "      <td>MyoThiha Thiha</td>\n",
       "      <td>good... Thanks</td>\n",
       "      <td>5</td>\n",
       "      <td>0</td>\n",
       "      <td>NaN</td>\n",
       "      <td>2025-08-12 07:34:10</td>\n",
       "      <td>NaN</td>\n",
       "      <td>positive</td>\n",
       "    </tr>\n",
       "    <tr>\n",
       "      <th>2</th>\n",
       "      <td>411b1938-8ff1-45ee-9013-f973988c52c6</td>\n",
       "      <td>Gaurav Parikh</td>\n",
       "      <td>gauravparikh</td>\n",
       "      <td>5</td>\n",
       "      <td>0</td>\n",
       "      <td>8.4.0 build 12 40035</td>\n",
       "      <td>2025-08-10 04:48:53</td>\n",
       "      <td>8.4.0 build 12 40035</td>\n",
       "      <td>positive</td>\n",
       "    </tr>\n",
       "    <tr>\n",
       "      <th>3</th>\n",
       "      <td>7e3ec6c4-2b53-4e3f-b1b3-eba265859a9d</td>\n",
       "      <td>Gaurav Parikh</td>\n",
       "      <td>gauravparikh</td>\n",
       "      <td>5</td>\n",
       "      <td>0</td>\n",
       "      <td>8.4.0 build 12 40035</td>\n",
       "      <td>2025-08-08 11:26:36</td>\n",
       "      <td>8.4.0 build 12 40035</td>\n",
       "      <td>positive</td>\n",
       "    </tr>\n",
       "    <tr>\n",
       "      <th>4</th>\n",
       "      <td>18046d58-0cb1-4f41-814c-0f51c44a4dc7</td>\n",
       "      <td>Gaurav Parikh</td>\n",
       "      <td>gauravparikh</td>\n",
       "      <td>5</td>\n",
       "      <td>0</td>\n",
       "      <td>8.4.0 build 12 40035</td>\n",
       "      <td>2025-08-04 11:29:48</td>\n",
       "      <td>8.4.0 build 12 40035</td>\n",
       "      <td>positive</td>\n",
       "    </tr>\n",
       "  </tbody>\n",
       "</table>\n",
       "</div>"
      ],
      "text/plain": [
       "                               reviewId          userName         content  \\\n",
       "0  862124cd-d242-4654-a033-e55306d91de5  Siyasharan Yadav         zdyenne   \n",
       "1  ab9e18a1-99c9-4c03-9768-c8fc9e4117af    MyoThiha Thiha  good... Thanks   \n",
       "2  411b1938-8ff1-45ee-9013-f973988c52c6     Gaurav Parikh    gauravparikh   \n",
       "3  7e3ec6c4-2b53-4e3f-b1b3-eba265859a9d     Gaurav Parikh    gauravparikh   \n",
       "4  18046d58-0cb1-4f41-814c-0f51c44a4dc7     Gaurav Parikh    gauravparikh   \n",
       "\n",
       "   score  thumbsUpCount  reviewCreatedVersion                   at  \\\n",
       "0      1              0                   NaN  2025-08-13 10:35:11   \n",
       "1      5              0                   NaN  2025-08-12 07:34:10   \n",
       "2      5              0  8.4.0 build 12 40035  2025-08-10 04:48:53   \n",
       "3      5              0  8.4.0 build 12 40035  2025-08-08 11:26:36   \n",
       "4      5              0  8.4.0 build 12 40035  2025-08-04 11:29:48   \n",
       "\n",
       "             appVersion sentiment  \n",
       "0                   NaN  negative  \n",
       "1                   NaN  positive  \n",
       "2  8.4.0 build 12 40035  positive  \n",
       "3  8.4.0 build 12 40035  positive  \n",
       "4  8.4.0 build 12 40035  positive  "
      ]
     },
     "execution_count": 6,
     "metadata": {},
     "output_type": "execute_result"
    }
   ],
   "source": [
    "def map_sentiment(score):\n",
    "    if score <= 2:\n",
    "        return 'negative'\n",
    "    elif score == 3:\n",
    "        return 'neutral'\n",
    "    else:\n",
    "        return 'positive'\n",
    "\n",
    "df['sentiment'] = df['score'].apply(map_sentiment)\n",
    "df.head()"
   ]
  },
  {
   "cell_type": "markdown",
   "id": "116a997c",
   "metadata": {
    "papermill": {
     "duration": 0.00501,
     "end_time": "2025-08-15T12:23:42.486976",
     "exception": false,
     "start_time": "2025-08-15T12:23:42.481966",
     "status": "completed"
    },
    "tags": []
   },
   "source": [
    "Now lets see the sentiment distribution"
   ]
  },
  {
   "cell_type": "code",
   "execution_count": 7,
   "id": "a64edb88",
   "metadata": {
    "execution": {
     "iopub.execute_input": "2025-08-15T12:23:42.499454Z",
     "iopub.status.busy": "2025-08-15T12:23:42.498825Z",
     "iopub.status.idle": "2025-08-15T12:23:42.730671Z",
     "shell.execute_reply": "2025-08-15T12:23:42.729785Z"
    },
    "papermill": {
     "duration": 0.239896,
     "end_time": "2025-08-15T12:23:42.732248",
     "exception": false,
     "start_time": "2025-08-15T12:23:42.492352",
     "status": "completed"
    },
    "tags": []
   },
   "outputs": [
    {
     "data": {
      "image/png": "[encoded data removed]",
      "text/plain": [
       "<Figure size 600x400 with 1 Axes>"
      ]
     },
     "metadata": {},
     "output_type": "display_data"
    }
   ],
   "source": [
    "plt.figure(figsize=(6, 4))\n",
    "sns.countplot(x='sentiment', data=df, order=['negative', 'neutral', 'positive'], palette='pastel')\n",
    "plt.title('Sentiment Distribution')\n",
    "plt.xlabel('Sentiment')\n",
    "plt.ylabel('Number of Reviews')\n",
    "plt.tight_layout()\n",
    "plt.show()"
   ]
  },
  {
   "cell_type": "markdown",
   "id": "da13724d",
   "metadata": {
    "papermill": {
     "duration": 0.0054,
     "end_time": "2025-08-15T12:23:42.743640",
     "exception": false,
     "start_time": "2025-08-15T12:23:42.738240",
     "status": "completed"
    },
    "tags": []
   },
   "source": [
    "Negative sentiment is the most dominant class. With over 66k negative reviews, users are more likely to express dissatisfaction than praise in their feedback. This could be due to common app issues like bugs, billing problems, or streaming glitches.\n",
    "\n",
    "Positive reviews are slightly fewer but still strong. Around 58k positive reviews indicate that many users are satisfied with the app — likely praising the content library, performance, or recent improvements.\n",
    "\n",
    "Neutral sentiment is significantly underrepresented. Only 13.5k reviews are neutral, showing that users tend to leave feedback when they feel strongly — either positively or negatively."
   ]
  },
  {
   "cell_type": "code",
   "execution_count": 8,
   "id": "416b8e81",
   "metadata": {
    "execution": {
     "iopub.execute_input": "2025-08-15T12:23:42.756308Z",
     "iopub.status.busy": "2025-08-15T12:23:42.755975Z",
     "iopub.status.idle": "2025-08-15T12:23:45.296724Z",
     "shell.execute_reply": "2025-08-15T12:23:45.295839Z"
    },
    "papermill": {
     "duration": 2.549079,
     "end_time": "2025-08-15T12:23:45.298345",
     "exception": false,
     "start_time": "2025-08-15T12:23:42.749266",
     "status": "completed"
    },
    "tags": []
   },
   "outputs": [
    {
     "data": {
      "text/plain": [
       "0         zdyenne\n",
       "1     good thanks\n",
       "2    gauravparikh\n",
       "3    gauravparikh\n",
       "4    gauravparikh\n",
       "Name: cleaned_content, dtype: object"
      ]
     },
     "execution_count": 8,
     "metadata": {},
     "output_type": "execute_result"
    }
   ],
   "source": [
    "import re\n",
    "\n",
    "def clean_text(text):\n",
    "    # Remove URLs\n",
    "    text = re.sub(r'http\\S+|www\\S+|https\\S+', '', text)\n",
    "    \n",
    "    # Remove HTML tags\n",
    "    text = re.sub(r'<.*?>', '', text)\n",
    "\n",
    "    # Remove emojis and non-alphabetic characters\n",
    "    text = re.sub(r'[^a-zA-Z\\s]', '', text)\n",
    "\n",
    "    # Convert to lowercase\n",
    "    text = text.lower()\n",
    "\n",
    "    # Remove extra spaces\n",
    "    text = re.sub(r'\\s+', ' ', text).strip()\n",
    "\n",
    "    return text\n",
    "\n",
    "# Apply cleaning\n",
    "df['cleaned_content'] = df['content'].astype(str).apply(clean_text)\n",
    "df['cleaned_content'].head()"
   ]
  },
  {
   "cell_type": "markdown",
   "id": "a03f9132",
   "metadata": {
    "papermill": {
     "duration": 0.005684,
     "end_time": "2025-08-15T12:23:45.309931",
     "exception": false,
     "start_time": "2025-08-15T12:23:45.304247",
     "status": "completed"
    },
    "tags": []
   },
   "source": [
    "Lets remove Stopwords. These are common words like Stopwords are common words like \"the\", \"is\", \"and\" that don't carry useful sentiment."
   ]
  },
  {
   "cell_type": "code",
   "execution_count": 9,
   "id": "278716d8",
   "metadata": {
    "execution": {
     "iopub.execute_input": "2025-08-15T12:23:45.322679Z",
     "iopub.status.busy": "2025-08-15T12:23:45.322339Z",
     "iopub.status.idle": "2025-08-15T12:23:47.209072Z",
     "shell.execute_reply": "2025-08-15T12:23:47.208166Z"
    },
    "papermill": {
     "duration": 1.895101,
     "end_time": "2025-08-15T12:23:47.210813",
     "exception": false,
     "start_time": "2025-08-15T12:23:45.315712",
     "status": "completed"
    },
    "tags": []
   },
   "outputs": [
    {
     "name": "stderr",
     "output_type": "stream",
     "text": [
      "[nltk_data] Downloading package stopwords to /usr/share/nltk_data...\n",
      "[nltk_data]   Package stopwords is already up-to-date!\n"
     ]
    },
    {
     "data": {
      "text/plain": [
       "0                                                   zdyenne\n",
       "1                                               good thanks\n",
       "2                                              gauravparikh\n",
       "3                                              gauravparikh\n",
       "4                                              gauravparikh\n",
       "                                ...                        \n",
       "138957                really like many movies kdramas watch\n",
       "138958                 love netflix always enjoy time using\n",
       "138959                            sound quality slow movies\n",
       "138960    rate expensive bcos see netflix sunday charged...\n",
       "138961            app awesome english movies series tv show\n",
       "Name: cleaned_content, Length: 138956, dtype: object"
      ]
     },
     "execution_count": 9,
     "metadata": {},
     "output_type": "execute_result"
    }
   ],
   "source": [
    "import nltk\n",
    "from nltk.corpus import stopwords\n",
    "\n",
    "nltk.download('stopwords')\n",
    "\n",
    "stop_words = set(stopwords.words('english'))\n",
    "\n",
    "def remove_stopwords(text):\n",
    "    return ' '.join([word for word in text.split() if word not in stop_words])\n",
    "\n",
    "df['cleaned_content'] = df['cleaned_content'].apply(remove_stopwords)\n",
    "\n",
    "df['cleaned_content']\n"
   ]
  },
  {
   "cell_type": "markdown",
   "id": "90c8b240",
   "metadata": {
    "papermill": {
     "duration": 0.005895,
     "end_time": "2025-08-15T12:23:47.223293",
     "exception": false,
     "start_time": "2025-08-15T12:23:47.217398",
     "status": "completed"
    },
    "tags": []
   },
   "source": [
    "Now that the text is cleaned, we convert it into numeric vectors using TF-IDF (Term Frequency–Inverse Document Frequency)."
   ]
  },
  {
   "cell_type": "code",
   "execution_count": 10,
   "id": "8e9d7a4c",
   "metadata": {
    "execution": {
     "iopub.execute_input": "2025-08-15T12:23:47.236509Z",
     "iopub.status.busy": "2025-08-15T12:23:47.236188Z",
     "iopub.status.idle": "2025-08-15T12:23:49.312358Z",
     "shell.execute_reply": "2025-08-15T12:23:49.311464Z"
    },
    "papermill": {
     "duration": 2.084819,
     "end_time": "2025-08-15T12:23:49.314111",
     "exception": false,
     "start_time": "2025-08-15T12:23:47.229292",
     "status": "completed"
    },
    "tags": []
   },
   "outputs": [],
   "source": [
    "from sklearn.feature_extraction.text import TfidfVectorizer\n",
    "\n",
    "# Initialize vectorizer\n",
    "vectorizer = TfidfVectorizer(max_features=5000)  # Limit to top 5000 words\n",
    "\n",
    "# Transform text data\n",
    "X = vectorizer.fit_transform(df['cleaned_content'])\n",
    "\n",
    "# Labels\n",
    "y = df['sentiment']"
   ]
  },
  {
   "cell_type": "markdown",
   "id": "11b9a342",
   "metadata": {
    "papermill": {
     "duration": 0.005611,
     "end_time": "2025-08-15T12:23:49.325737",
     "exception": false,
     "start_time": "2025-08-15T12:23:49.320126",
     "status": "completed"
    },
    "tags": []
   },
   "source": [
    "At this point:\n",
    "\n",
    "X is a matrix of TF-IDF features (words)\n",
    "\n",
    "y is your target sentiment label (negative, neutral, positive)"
   ]
  },
  {
   "cell_type": "markdown",
   "id": "57a6454c",
   "metadata": {
    "papermill": {
     "duration": 0.005491,
     "end_time": "2025-08-15T12:23:49.337064",
     "exception": false,
     "start_time": "2025-08-15T12:23:49.331573",
     "status": "completed"
    },
    "tags": []
   },
   "source": [
    "We will split the data with the ration 80% of the data for training and 20% of the  for testing."
   ]
  },
  {
   "cell_type": "code",
   "execution_count": 11,
   "id": "9852e957",
   "metadata": {
    "execution": {
     "iopub.execute_input": "2025-08-15T12:23:49.349793Z",
     "iopub.status.busy": "2025-08-15T12:23:49.349458Z",
     "iopub.status.idle": "2025-08-15T12:23:49.499429Z",
     "shell.execute_reply": "2025-08-15T12:23:49.498429Z"
    },
    "papermill": {
     "duration": 0.158253,
     "end_time": "2025-08-15T12:23:49.501075",
     "exception": false,
     "start_time": "2025-08-15T12:23:49.342822",
     "status": "completed"
    },
    "tags": []
   },
   "outputs": [],
   "source": [
    "from sklearn.model_selection import train_test_split\n",
    "\n",
    "X_train, X_test, y_train, y_test = train_test_split(X, y, test_size=0.2, stratify=y, random_state=42)\n"
   ]
  },
  {
   "cell_type": "markdown",
   "id": "c3c2830a",
   "metadata": {
    "papermill": {
     "duration": 0.005569,
     "end_time": "2025-08-15T12:23:49.512749",
     "exception": false,
     "start_time": "2025-08-15T12:23:49.507180",
     "status": "completed"
    },
    "tags": []
   },
   "source": [
    "Now we are ready to test models. We'll test a mix of traditional ML algorithms often used in sentiment analysis:\n",
    "\n",
    "* Logistic RegressionRandom\n",
    "* ForestLinear\n",
    "* SVCMultinomial\n",
    "* Naive Bayes"
   ]
  },
  {
   "cell_type": "code",
   "execution_count": 12,
   "id": "94eef33c",
   "metadata": {
    "execution": {
     "iopub.execute_input": "2025-08-15T12:23:49.525516Z",
     "iopub.status.busy": "2025-08-15T12:23:49.525210Z",
     "iopub.status.idle": "2025-08-15T12:30:00.105075Z",
     "shell.execute_reply": "2025-08-15T12:30:00.104167Z"
    },
    "papermill": {
     "duration": 370.593452,
     "end_time": "2025-08-15T12:30:00.111933",
     "exception": false,
     "start_time": "2025-08-15T12:23:49.518481",
     "status": "completed"
    },
    "tags": []
   },
   "outputs": [
    {
     "data": {
      "text/html": [
       "<div>\n",
       "<style scoped>\n",
       "    .dataframe tbody tr th:only-of-type {\n",
       "        vertical-align: middle;\n",
       "    }\n",
       "\n",
       "    .dataframe tbody tr th {\n",
       "        vertical-align: top;\n",
       "    }\n",
       "\n",
       "    .dataframe thead th {\n",
       "        text-align: right;\n",
       "    }\n",
       "</style>\n",
       "<table border=\"1\" class=\"dataframe\">\n",
       "  <thead>\n",
       "    <tr style=\"text-align: right;\">\n",
       "      <th></th>\n",
       "      <th>Accuracy</th>\n",
       "      <th>F1-Score</th>\n",
       "    </tr>\n",
       "  </thead>\n",
       "  <tbody>\n",
       "    <tr>\n",
       "      <th>Logistic Regression</th>\n",
       "      <td>0.796884</td>\n",
       "      <td>0.581620</td>\n",
       "    </tr>\n",
       "    <tr>\n",
       "      <th>Linear SVC</th>\n",
       "      <td>0.792926</td>\n",
       "      <td>0.567679</td>\n",
       "    </tr>\n",
       "    <tr>\n",
       "      <th>Random Forest</th>\n",
       "      <td>0.785298</td>\n",
       "      <td>0.553335</td>\n",
       "    </tr>\n",
       "    <tr>\n",
       "      <th>Naive Bayes</th>\n",
       "      <td>0.776770</td>\n",
       "      <td>0.547573</td>\n",
       "    </tr>\n",
       "  </tbody>\n",
       "</table>\n",
       "</div>"
      ],
      "text/plain": [
       "                     Accuracy  F1-Score\n",
       "Logistic Regression  0.796884  0.581620\n",
       "Linear SVC           0.792926  0.567679\n",
       "Random Forest        0.785298  0.553335\n",
       "Naive Bayes          0.776770  0.547573"
      ]
     },
     "execution_count": 12,
     "metadata": {},
     "output_type": "execute_result"
    }
   ],
   "source": [
    "from sklearn.linear_model import LogisticRegression\n",
    "from sklearn.ensemble import RandomForestClassifier\n",
    "from sklearn.svm import LinearSVC\n",
    "from sklearn.naive_bayes import MultinomialNB\n",
    "from sklearn.metrics import accuracy_score, classification_report\n",
    "\n",
    "models = {\n",
    "    \"Logistic Regression\": LogisticRegression(max_iter=2000),\n",
    "    \"Random Forest\": RandomForestClassifier(n_estimators=100),\n",
    "    \"Linear SVC\": LinearSVC(),\n",
    "    \"Naive Bayes\": MultinomialNB()\n",
    "}\n",
    "\n",
    "results = {}\n",
    "\n",
    "for name, model in models.items():\n",
    "    model.fit(X_train, y_train)\n",
    "    y_pred = model.predict(X_test)\n",
    "\n",
    "    acc = accuracy_score(y_test, y_pred)\n",
    "    report = classification_report(y_test, y_pred, output_dict=True)\n",
    "    f1_macro = report['macro avg']['f1-score']\n",
    "\n",
    "    results[name] = {\"Accuracy\": acc, \"F1-Score\": f1_macro}\n",
    "\n",
    "# Display results\n",
    "pd.DataFrame(results).T.sort_values(by=\"F1-Score\", ascending=False)\n"
   ]
  },
  {
   "cell_type": "code",
   "execution_count": 13,
   "id": "b2f96983",
   "metadata": {
    "execution": {
     "iopub.execute_input": "2025-08-15T12:30:00.126218Z",
     "iopub.status.busy": "2025-08-15T12:30:00.125928Z",
     "iopub.status.idle": "2025-08-15T12:30:00.134031Z",
     "shell.execute_reply": "2025-08-15T12:30:00.133006Z"
    },
    "papermill": {
     "duration": 0.017224,
     "end_time": "2025-08-15T12:30:00.135476",
     "exception": false,
     "start_time": "2025-08-15T12:30:00.118252",
     "status": "completed"
    },
    "tags": []
   },
   "outputs": [
    {
     "name": "stdout",
     "output_type": "stream",
     "text": [
      "Predicted sentiment: negative\n",
      "Prediction confidence: [[0.97431507 0.01263201 0.01305292]]\n"
     ]
    }
   ],
   "source": [
    "my_review = [\"I worst how the streaming is!\"]\n",
    "\n",
    "# Step 1: Transform review into same vector space as training data\n",
    "my_review_vectorized = vectorizer.transform(my_review)\n",
    "log_reg_model = models[\"Logistic Regression\"]\n",
    "# Step 2: Predict sentiment\n",
    "predicted_label = log_reg_model.predict(my_review_vectorized)[0]\n",
    "\n",
    "# Step 3: Optional - Predict probability\n",
    "predicted_proba = log_reg_model.predict_proba(my_review_vectorized)\n",
    "\n",
    "print(\"Predicted sentiment:\", predicted_label)\n",
    "print(\"Prediction confidence:\", predicted_proba)"
   ]
  }
 ],
 "metadata": {
  "kaggle": {
   "accelerator": "none",
   "dataSources": [
    {
     "datasetId": 4981370,
     "sourceId": 12743919,
     "sourceType": "datasetVersion"
    }
   ],
   "dockerImageVersionId": 31089,
   "isGpuEnabled": false,
   "isInternetEnabled": true,
   "language": "python",
   "sourceType": "notebook"
  },
  "kernelspec": {
   "display_name": "Python 3",
   "language": "python",
   "name": "python3"
  },
  "language_info": {
   "codemirror_mode": {
    "name": "ipython",
    "version": 3
   },
   "file_extension": ".py",
   "mimetype": "text/x-python",
   "name": "python",
   "nbconvert_exporter": "python",
   "pygments_lexer": "ipython3",
   "version": "3.11.13"
  },
  "papermill": {
   "default_parameters": {},
   "duration": 390.38895,
   "end_time": "2025-08-15T12:30:01.064633",
   "environment_variables": {},
   "exception": null,
   "input_path": "__notebook__.ipynb",
   "output_path": "__notebook__.ipynb",
   "parameters": {},
   "start_time": "2025-08-15T12:23:30.675683",
   "version": "2.6.0"
  }
 },
 "nbformat": 4,
 "nbformat_minor": 5
}
